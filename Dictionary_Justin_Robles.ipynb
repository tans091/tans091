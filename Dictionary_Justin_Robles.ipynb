{
  "nbformat": 4,
  "nbformat_minor": 0,
  "metadata": {
    "colab": {
      "provenance": [],
      "authorship_tag": "ABX9TyOZX01w0obUNSybfzfcEz4/",
      "include_colab_link": true
    },
    "kernelspec": {
      "name": "python3",
      "display_name": "Python 3"
    },
    "language_info": {
      "name": "python"
    }
  },
  "cells": [
    {
      "cell_type": "markdown",
      "metadata": {
        "id": "view-in-github",
        "colab_type": "text"
      },
      "source": [
        "<a href=\"https://colab.research.google.com/github/tans091/tans091/blob/main/Dictionary_Justin_Robles.ipynb\" target=\"_parent\"><img src=\"https://colab.research.google.com/assets/colab-badge.svg\" alt=\"Open In Colab\"/></a>"
      ]
    },
    {
      "cell_type": "code",
      "execution_count": 6,
      "metadata": {
        "colab": {
          "base_uri": "https://localhost:8080/"
        },
        "id": "lDPrOGqjPUxe",
        "outputId": "792fde29-0d35-41b3-f93c-bfbfdb87a8ad"
      },
      "outputs": [
        {
          "output_type": "stream",
          "name": "stdout",
          "text": [
            "{'Alpha': 89, 'Beta': 95, 'Charlie': 90, 'Delta': 90, 'Echo': 95, 'Foxtrot': 94, 'Golf': 99, 'Hotel': 92, 'India': 99, 'Juliett': 98}\n",
            "\n",
            "Total Grades of Students:\n",
            "941\n",
            "\n",
            "Average Grades of Students:\n",
            "94.1\n"
          ]
        }
      ],
      "source": [
        "Students = dict()\n",
        "Students[\"Alpha\"] = 89\n",
        "Students[\"Beta\"] = 95\n",
        "Students[\"Charlie\"] = 90\n",
        "Students[\"Delta\"] = 90\n",
        "Students[\"Echo\"] = 95\n",
        "Students[\"Foxtrot\"] = 94\n",
        "Students[\"Golf\"] = 99\n",
        "Students[\"Hotel\"] = 92\n",
        "Students[\"India\"] = 99\n",
        "Students[\"Juliett\"] = 98\n",
        "\n",
        "print(Students)\n",
        "print(\"\\nTotal Grades of Students:\")\n",
        "print(sum(Students.values()))\n",
        "print(\"\\nAverage Grades of Students:\")\n",
        "print(sum(Students.values())/len(Students))\n",
        "\n",
        "\n",
        "\n",
        "\n",
        "\n",
        "\n",
        "\n",
        "\n",
        "\n",
        "\n",
        "\n",
        "\n",
        "\n",
        "\n",
        "\n",
        "\n",
        "\n",
        "\n",
        "\n",
        "\n",
        "\n",
        "\n",
        "\n",
        "\n"
      ]
    }
  ]
}